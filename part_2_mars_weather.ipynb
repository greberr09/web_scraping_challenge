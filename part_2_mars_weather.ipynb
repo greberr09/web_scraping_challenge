{
 "cells": [
  {
   "cell_type": "markdown",
   "metadata": {},
   "source": [
    "# Module 12 Challenge\n",
    "## Deliverable 2: Scrape and Analyze Mars Weather Data"
   ]
  },
  {
   "cell_type": "code",
   "execution_count": 1,
   "metadata": {},
   "outputs": [],
   "source": [
    "# Import relevant libraries\n",
    "from splinter import Browser\n",
    "from bs4 import BeautifulSoup as soup\n",
    "\n",
    "import matplotlib.pyplot as plt\n",
    "import pandas as pd\n",
    "import os\n",
    "\n",
    "import sys\n",
    "sys.path.append(\"../\")"
   ]
  },
  {
   "cell_type": "code",
   "execution_count": 2,
   "metadata": {},
   "outputs": [],
   "source": [
    "# Our intructor suggested the approach of having the chromedriver as part of the distribution materials for production scraping projects \n",
    "# for help with things like version differences for each project.  It also helps address any environment issues to set the\n",
    "# relative location of the chromedriver explicitly.\n",
    "#  \n",
    "# Define the relative path to the chromedriver\n",
    "\n",
    "rel_path = './chromedriver/chromedriver.exe'\n",
    "\n",
    "# Use os to get the full path to the driver\n",
    "chromedriver_path = os.path.abspath(rel_path)\n",
    "\n",
    "# Add the chromedriver path to the system PATH\n",
    "os.environ[\"PATH\"] += os.pathsep + chromedriver_path\n",
    "\n",
    "\n",
    "output_path =  './output/mars_weather_data.csv'\n"
   ]
  },
  {
   "cell_type": "code",
   "execution_count": 3,
   "metadata": {},
   "outputs": [],
   "source": [
    "browser = Browser('chrome')"
   ]
  },
  {
   "cell_type": "markdown",
   "metadata": {},
   "source": [
    "### Step 1: Visit the Website\n",
    "\n",
    "Use automated browsing to visit the [Mars Temperature Data Site](https://static.bc-edx.com/data/web/mars_facts/temperature.html). Inspect the page to identify which elements to scrape.\n",
    "\n",
    "   > **Hint** To identify which elements to scrape, you might want to inspect the page by using Chrome DevTools to discover whether the table contains usable classes.\n"
   ]
  },
  {
   "cell_type": "code",
   "execution_count": 4,
   "metadata": {},
   "outputs": [],
   "source": [
    "# Visit the website\n",
    "\n",
    "url = \"https://static.bc-edx.com/data/web/mars_facts/temperature.html\"\n",
    "browser.visit(url)"
   ]
  },
  {
   "cell_type": "markdown",
   "metadata": {},
   "source": [
    "### Step 2: Scrape the Table\n",
    "\n",
    "Create a Beautiful Soup object and use it to scrape the data in the HTML table.\n",
    "\n",
    "Note that this can also be achieved by using the Pandas `read_html` function. However, use Beautiful Soup here to continue sharpening your web scraping skills."
   ]
  },
  {
   "cell_type": "code",
   "execution_count": 5,
   "metadata": {},
   "outputs": [],
   "source": [
    "# Parse the HTML\n",
    "html = browser.html\n",
    "\n",
    "# Create a Beautiful Soup object\n",
    "\n",
    "html_soup = soup(html, 'html.parser')\n"
   ]
  },
  {
   "cell_type": "code",
   "execution_count": 6,
   "metadata": {},
   "outputs": [],
   "source": [
    "# Extract all rows of data"
   ]
  },
  {
   "cell_type": "code",
   "execution_count": 7,
   "metadata": {},
   "outputs": [
    {
     "name": "stdout",
     "output_type": "stream",
     "text": [
      "['id', 'terrestrial_date', 'sol', 'ls', 'month', 'min_temp', 'pressure']\n"
     ]
    }
   ],
   "source": [
    "# First get the column (field) names for the temperatures table \n",
    "\n",
    "# Get the first table\n",
    "table =  html_soup.find('table', class_='table')\n",
    "\n",
    "# Find the table body element\n",
    "table_body = table.find('tbody')\n",
    "\n",
    "# Find the header row (table row that has 'th' elements)\n",
    "header_row = table_body.find('tr')\n",
    "\n",
    "# Extract the field names from the header row\n",
    "field_names = [th.get_text(strip=True) for th in header_row.find_all('th')]\n",
    "\n",
    "# Print the field names\n",
    "print(field_names)\n"
   ]
  },
  {
   "cell_type": "markdown",
   "metadata": {},
   "source": [
    "### Step 3: Store the Data\n",
    "\n",
    "Assemble the scraped data into a Pandas DataFrame. The columns should have the same headings as the table on the website. Here’s an explanation of the column headings:\n",
    "\n",
    "* `id`: the identification number of a single transmission from the Curiosity rover\n",
    "* `terrestrial_date`: the date on Earth\n",
    "* `sol`: the number of elapsed sols (Martian days) since Curiosity landed on Mars\n",
    "* `ls`: the solar longitude\n",
    "* `month`: the Martian month\n",
    "* `min_temp`: the minimum temperature, in Celsius, of a single Martian day (sol)\n",
    "* `pressure`: The atmospheric pressure at Curiosity's location"
   ]
  },
  {
   "cell_type": "code",
   "execution_count": 8,
   "metadata": {},
   "outputs": [
    {
     "name": "stdout",
     "output_type": "stream",
     "text": [
      "Data row:  [<td>2</td>, <td>2012-08-16</td>, <td>10</td>, <td>155</td>, <td>6</td>, <td>-75.0</td>, <td>739.0</td>]\n",
      "id : 2\n",
      "terrestrial_date : 2012-08-16\n",
      "sol : 10\n",
      "ls : 155\n",
      "month : 6\n",
      "min_temp : -75.0\n",
      "pressure : 739.0\n",
      "Data row:  [<td>13</td>, <td>2012-08-17</td>, <td>11</td>, <td>156</td>, <td>6</td>, <td>-76.0</td>, <td>740.0</td>]\n",
      "id : 13\n",
      "terrestrial_date : 2012-08-17\n",
      "sol : 11\n",
      "ls : 156\n",
      "month : 6\n",
      "min_temp : -76.0\n",
      "pressure : 740.0\n",
      "Data row:  [<td>24</td>, <td>2012-08-18</td>, <td>12</td>, <td>156</td>, <td>6</td>, <td>-76.0</td>, <td>741.0</td>]\n",
      "id : 24\n",
      "terrestrial_date : 2012-08-18\n",
      "sol : 12\n",
      "ls : 156\n",
      "month : 6\n",
      "min_temp : -76.0\n",
      "pressure : 741.0\n",
      "Data row:  [<td>35</td>, <td>2012-08-19</td>, <td>13</td>, <td>157</td>, <td>6</td>, <td>-74.0</td>, <td>732.0</td>]\n",
      "id : 35\n",
      "terrestrial_date : 2012-08-19\n",
      "sol : 13\n",
      "ls : 157\n",
      "month : 6\n",
      "min_temp : -74.0\n",
      "pressure : 732.0\n"
     ]
    }
   ],
   "source": [
    "# Create a Pandas DataFrame by using the list of rows and the list of field names\n",
    "\n",
    "# Create the list for all of the temperature readings\n",
    "mars_temps = []\n",
    "\n",
    "# create the dictionary for one reading from the collected column/field names\n",
    "temp_reading = {field: \"\" for field in field_names}\n",
    "\n",
    "# get the data rows\n",
    "rows =  html_soup.find_all('tr', class_='data-row')\n",
    "\n",
    "# set the output print counter\n",
    "cntr=0\n",
    "\n",
    "# Iterate over the data rows\n",
    "for row in rows:\n",
    " \n",
    "    # Store each set of temperature readings in one dictionary\n",
    "\n",
    "    temp_reading = {field: \"\" for field in field_names}\n",
    "\n",
    "    # Find the data row which is contained within a 'td' pair\n",
    "    \n",
    "    data_row = row.select(('td'))\n",
    "    if cntr <=3:\n",
    "        print(\"Data row: \", data_row)\n",
    "    \n",
    "    # Extract the text content of each <td> element in the row without the html tags\n",
    "    data = [td.get_text(strip=True) for td in data_row]\n",
    "  \n",
    "    # Assign the extracted data to the corresponding fields in the temp_reading dictionary\n",
    "    for i in range(len(field_names)):\n",
    "        temp_reading[field_names[i]] = data[i]\n",
    "        \n",
    "        # print the first 3 rows for verification\n",
    "        if cntr <= 3:\n",
    "            print(f\"{field_names[i]} : {data[i]}\")\n",
    "   \n",
    "    # Add the dictionary to the temperatures list\n",
    "    mars_temps.append(temp_reading)\n",
    "    \n",
    "    # update the print counter\n",
    "    cntr+=1\n",
    "    \n",
    "# create the DataFrame\n",
    "mars_temps_df = pd.DataFrame(mars_temps)\n"
   ]
  },
  {
   "cell_type": "code",
   "execution_count": 9,
   "metadata": {},
   "outputs": [
    {
     "data": {
      "text/html": [
       "<div>\n",
       "<style scoped>\n",
       "    .dataframe tbody tr th:only-of-type {\n",
       "        vertical-align: middle;\n",
       "    }\n",
       "\n",
       "    .dataframe tbody tr th {\n",
       "        vertical-align: top;\n",
       "    }\n",
       "\n",
       "    .dataframe thead th {\n",
       "        text-align: right;\n",
       "    }\n",
       "</style>\n",
       "<table border=\"1\" class=\"dataframe\">\n",
       "  <thead>\n",
       "    <tr style=\"text-align: right;\">\n",
       "      <th></th>\n",
       "      <th>id</th>\n",
       "      <th>terrestrial_date</th>\n",
       "      <th>sol</th>\n",
       "      <th>ls</th>\n",
       "      <th>month</th>\n",
       "      <th>min_temp</th>\n",
       "      <th>pressure</th>\n",
       "    </tr>\n",
       "  </thead>\n",
       "  <tbody>\n",
       "    <tr>\n",
       "      <th>0</th>\n",
       "      <td>2</td>\n",
       "      <td>2012-08-16</td>\n",
       "      <td>10</td>\n",
       "      <td>155</td>\n",
       "      <td>6</td>\n",
       "      <td>-75.0</td>\n",
       "      <td>739.0</td>\n",
       "    </tr>\n",
       "    <tr>\n",
       "      <th>1</th>\n",
       "      <td>13</td>\n",
       "      <td>2012-08-17</td>\n",
       "      <td>11</td>\n",
       "      <td>156</td>\n",
       "      <td>6</td>\n",
       "      <td>-76.0</td>\n",
       "      <td>740.0</td>\n",
       "    </tr>\n",
       "    <tr>\n",
       "      <th>2</th>\n",
       "      <td>24</td>\n",
       "      <td>2012-08-18</td>\n",
       "      <td>12</td>\n",
       "      <td>156</td>\n",
       "      <td>6</td>\n",
       "      <td>-76.0</td>\n",
       "      <td>741.0</td>\n",
       "    </tr>\n",
       "    <tr>\n",
       "      <th>3</th>\n",
       "      <td>35</td>\n",
       "      <td>2012-08-19</td>\n",
       "      <td>13</td>\n",
       "      <td>157</td>\n",
       "      <td>6</td>\n",
       "      <td>-74.0</td>\n",
       "      <td>732.0</td>\n",
       "    </tr>\n",
       "    <tr>\n",
       "      <th>4</th>\n",
       "      <td>46</td>\n",
       "      <td>2012-08-20</td>\n",
       "      <td>14</td>\n",
       "      <td>157</td>\n",
       "      <td>6</td>\n",
       "      <td>-74.0</td>\n",
       "      <td>740.0</td>\n",
       "    </tr>\n",
       "    <tr>\n",
       "      <th>5</th>\n",
       "      <td>57</td>\n",
       "      <td>2012-08-21</td>\n",
       "      <td>15</td>\n",
       "      <td>158</td>\n",
       "      <td>6</td>\n",
       "      <td>-78.0</td>\n",
       "      <td>740.0</td>\n",
       "    </tr>\n",
       "    <tr>\n",
       "      <th>6</th>\n",
       "      <td>68</td>\n",
       "      <td>2012-08-22</td>\n",
       "      <td>16</td>\n",
       "      <td>158</td>\n",
       "      <td>6</td>\n",
       "      <td>-77.0</td>\n",
       "      <td>740.0</td>\n",
       "    </tr>\n",
       "    <tr>\n",
       "      <th>7</th>\n",
       "      <td>79</td>\n",
       "      <td>2012-08-23</td>\n",
       "      <td>17</td>\n",
       "      <td>159</td>\n",
       "      <td>6</td>\n",
       "      <td>-76.0</td>\n",
       "      <td>742.0</td>\n",
       "    </tr>\n",
       "    <tr>\n",
       "      <th>8</th>\n",
       "      <td>112</td>\n",
       "      <td>2012-08-27</td>\n",
       "      <td>21</td>\n",
       "      <td>161</td>\n",
       "      <td>6</td>\n",
       "      <td>-74.0</td>\n",
       "      <td>741.0</td>\n",
       "    </tr>\n",
       "    <tr>\n",
       "      <th>9</th>\n",
       "      <td>114</td>\n",
       "      <td>2012-08-28</td>\n",
       "      <td>22</td>\n",
       "      <td>162</td>\n",
       "      <td>6</td>\n",
       "      <td>-74.0</td>\n",
       "      <td>742.0</td>\n",
       "    </tr>\n",
       "  </tbody>\n",
       "</table>\n",
       "</div>"
      ],
      "text/plain": [
       "    id terrestrial_date sol   ls month min_temp pressure\n",
       "0    2       2012-08-16  10  155     6    -75.0    739.0\n",
       "1   13       2012-08-17  11  156     6    -76.0    740.0\n",
       "2   24       2012-08-18  12  156     6    -76.0    741.0\n",
       "3   35       2012-08-19  13  157     6    -74.0    732.0\n",
       "4   46       2012-08-20  14  157     6    -74.0    740.0\n",
       "5   57       2012-08-21  15  158     6    -78.0    740.0\n",
       "6   68       2012-08-22  16  158     6    -77.0    740.0\n",
       "7   79       2012-08-23  17  159     6    -76.0    742.0\n",
       "8  112       2012-08-27  21  161     6    -74.0    741.0\n",
       "9  114       2012-08-28  22  162     6    -74.0    742.0"
      ]
     },
     "execution_count": 9,
     "metadata": {},
     "output_type": "execute_result"
    }
   ],
   "source": [
    "# Confirm DataFrame was created successfully\n",
    "\n",
    "mars_temps_df.head(10)"
   ]
  },
  {
   "cell_type": "markdown",
   "metadata": {},
   "source": [
    "### Step 4: Prepare the Data for Analysis\n",
    "\n",
    "Examine the data types that are currently associated with each column. \n",
    "If necessary, cast (or convert) the data to the appropriate datetime, int, or float data types."
   ]
  },
  {
   "cell_type": "code",
   "execution_count": 10,
   "metadata": {},
   "outputs": [
    {
     "name": "stdout",
     "output_type": "stream",
     "text": [
      "id                  object\n",
      "terrestrial_date    object\n",
      "sol                 object\n",
      "ls                  object\n",
      "month               object\n",
      "min_temp            object\n",
      "pressure            object\n",
      "dtype: object\n"
     ]
    }
   ],
   "source": [
    "# Examine data type of each column\n",
    "\n",
    "field_types = mars_temps_df.dtypes\n",
    "\n",
    "print(field_types)"
   ]
  },
  {
   "cell_type": "code",
   "execution_count": 11,
   "metadata": {},
   "outputs": [],
   "source": [
    "# Change data types for data analysis\n",
    "\n",
    "mars_temps_df['id'] = mars_temps_df['id'].astype('int64')\n",
    "\n",
    "# datetime has to be formatted to match the format of the input so Pandas recognizes it as a date\n",
    "mars_temps_df['terrestrial_date'] = pd.to_datetime(mars_temps_df['terrestrial_date'], format='%Y-%m-%d')\n",
    "\n",
    "mars_temps_df['sol'] = mars_temps_df['sol'].astype('int64')\n",
    "mars_temps_df['ls'] = mars_temps_df['ls'].astype('int64')\n",
    "mars_temps_df['month'] = mars_temps_df['month'].astype('int64')\n",
    "mars_temps_df['min_temp'] = mars_temps_df['min_temp'].astype(float)\n",
    "mars_temps_df['pressure'] = mars_temps_df['pressure'].astype(float)\n"
   ]
  },
  {
   "cell_type": "code",
   "execution_count": 12,
   "metadata": {},
   "outputs": [
    {
     "name": "stdout",
     "output_type": "stream",
     "text": [
      "id                           int64\n",
      "terrestrial_date    datetime64[ns]\n",
      "sol                          int64\n",
      "ls                           int64\n",
      "month                        int64\n",
      "min_temp                   float64\n",
      "pressure                   float64\n",
      "dtype: object\n"
     ]
    }
   ],
   "source": [
    "# Confirm type changes were successful by examining data types again\n",
    "revised_field_types = mars_temps_df.dtypes\n",
    "\n",
    "print(revised_field_types)"
   ]
  },
  {
   "cell_type": "markdown",
   "metadata": {},
   "source": [
    "### Step 5: Analyze the Data\n",
    "\n",
    "Analyze your dataset by using Pandas functions to answer the following questions:\n",
    "\n",
    "1. How many months exist on Mars?\n",
    "2. How many Martian (and not Earth) days worth of data exist in the scraped dataset?\n",
    "3. What are the coldest and the warmest months on Mars (at the location of Curiosity)? To answer this question:\n",
    "    * Find the average the minimum daily temperature for all of the months.\n",
    "    * Plot the results as a bar chart.\n",
    "4. Which months have the lowest and the highest atmospheric pressure on Mars? To answer this question:\n",
    "    * Find the average the daily atmospheric pressure of all the months.\n",
    "    * Plot the results as a bar chart.\n",
    "5. About how many terrestrial (Earth) days exist in a Martian year? To answer this question:\n",
    "    * Consider how many days elapse on Earth in the time that Mars circles the Sun once.\n",
    "    * Visually estimate the result by plotting the daily minimum temperature.\n"
   ]
  },
  {
   "cell_type": "markdown",
   "metadata": {},
   "source": [
    "### 1. How many months are there on Mars?"
   ]
  },
  {
   "cell_type": "code",
   "execution_count": 13,
   "metadata": {},
   "outputs": [
    {
     "name": "stdout",
     "output_type": "stream",
     "text": [
      "1     174\n",
      "2     178\n",
      "3     192\n",
      "4     194\n",
      "5     149\n",
      "6     147\n",
      "7     142\n",
      "8     141\n",
      "9     134\n",
      "10    112\n",
      "11    138\n",
      "12    166\n",
      "Name: month, dtype: int64\n"
     ]
    }
   ],
   "source": [
    "# caclulate the months\n",
    "mars_months = mars_temps_df['month'].value_counts().sort_index()\n",
    "\n",
    "# print the totals\n",
    "print(mars_months)"
   ]
  },
  {
   "cell_type": "markdown",
   "metadata": {},
   "source": [
    "### 2. How many Martian days' worth of data are there?"
   ]
  },
  {
   "cell_type": "code",
   "execution_count": 14,
   "metadata": {},
   "outputs": [
    {
     "name": "stdout",
     "output_type": "stream",
     "text": [
      "There are 1867 Martian days of data\n"
     ]
    }
   ],
   "source": [
    "mars_days = len(mars_temps_df['sol'])\n",
    "\n",
    "print(f\"There are {mars_days} Martian days of data\")"
   ]
  },
  {
   "cell_type": "markdown",
   "metadata": {},
   "source": [
    "### 3. What are the coldest and the warmest months on Mars (at the location of Curiosity)?"
   ]
  },
  {
   "cell_type": "code",
   "execution_count": 15,
   "metadata": {},
   "outputs": [
    {
     "name": "stdout",
     "output_type": "stream",
     "text": [
      "month\n",
      "1    -77.160920\n",
      "2    -79.932584\n",
      "3    -83.307292\n",
      "4    -82.747423\n",
      "5    -79.308725\n",
      "6    -75.299320\n",
      "7    -72.281690\n",
      "8    -68.382979\n",
      "9    -69.171642\n",
      "10   -71.982143\n",
      "11   -71.985507\n",
      "12   -74.451807\n",
      "Name: min_temp, dtype: float64\n"
     ]
    }
   ],
   "source": [
    "# First caclulate the average low temperature by month\n",
    "\n",
    "mars_min_temps = mars_temps_df.groupby('month')['min_temp'].mean()\n",
    "\n",
    "# print the averages\n",
    "\n",
    "print(mars_min_temps)"
   ]
  },
  {
   "cell_type": "code",
   "execution_count": 16,
   "metadata": {},
   "outputs": [
    {
     "data": {
      "image/png": "[encoded data removed]",
      "text/plain": [
       "<Figure size 640x480 with 1 Axes>"
      ]
     },
     "metadata": {},
     "output_type": "display_data"
    }
   ],
   "source": [
    "# Plot the average low temperature by month\n",
    "\n",
    "mars_min_temps.plot.bar()\n",
    "\n",
    "# Get the current Axes object (to set the appropriate label padding)\n",
    "ax = plt.gca()  # Get the current Axes object\n",
    "\n",
    "# Set padding on the x-axis label\n",
    "ax.set_xlabel('Month', labelpad=10) \n",
    "ax.set_ylabel('Temperature (Celsius)', labelpad=8) \n",
    "\n",
    "plt.title('Average Low Temperatures on Mars', pad = 15)\n",
    "\n",
    "# display the plot\n",
    "plt.show()"
   ]
  },
  {
   "cell_type": "code",
   "execution_count": 17,
   "metadata": {
    "scrolled": true
   },
   "outputs": [
    {
     "data": {
      "image/png": "[encoded data removed]",
      "text/plain": [
       "<Figure size 640x480 with 1 Axes>"
      ]
     },
     "metadata": {},
     "output_type": "display_data"
    },
    {
     "name": "stdout",
     "output_type": "stream",
     "text": [
      "The coldest temperature on Mars is -83.30729166666667 in month 3.\n",
      "The warmest temperature on Mars is -68.38297872340425 in month 8.\n"
     ]
    }
   ],
   "source": [
    "# Identify the coldest and hottest months at Curiosity's location\n",
    "\n",
    "# First plot the average low temperature by month\n",
    "\n",
    "# sort the temperatures in ascending order\n",
    "sorted_min_temps = mars_min_temps.sort_values()\n",
    "\n",
    "# get the coldest month\n",
    "coldest_month = sorted_min_temps.idxmin()\n",
    "\n",
    "# get the warmest month\n",
    "warmest_month = sorted_min_temps.idxmax()\n",
    "\n",
    "# plot the temperatures\n",
    "sorted_min_temps.plot.bar()\n",
    "\n",
    "# Get the current Axes object (to set the appropriate label padding)\n",
    "ax = plt.gca()  # Get the current Axes object\n",
    "\n",
    "# Set padding on the x-axis label\n",
    "ax.set_xlabel('Month', labelpad=10) \n",
    "ax.set_ylabel('Temperature (Celsius)', labelpad=8) \n",
    "\n",
    "plt.title('Coldest to Warmest Average Low Temperatures on Mars', pad = 15)\n",
    "\n",
    "# display the plot\n",
    "plt.show()\n",
    "\n",
    "# print the coldest and warmest months\n",
    "print(f\"The coldest temperature on Mars is {min(sorted_min_temps)} in month {coldest_month}.\")\n",
    "print(f\"The warmest temperature on Mars is {max(sorted_min_temps)} in month {warmest_month}.\")\n"
   ]
  },
  {
   "cell_type": "markdown",
   "metadata": {},
   "source": [
    "### 4.  Which months have the lowest and the highest atmospheric pressure on Mars? "
   ]
  },
  {
   "cell_type": "code",
   "execution_count": 18,
   "metadata": {},
   "outputs": [
    {
     "name": "stdout",
     "output_type": "stream",
     "text": [
      "month\n",
      "1     862.488506\n",
      "2     889.455056\n",
      "3     877.322917\n",
      "4     806.329897\n",
      "5     748.557047\n",
      "6     745.054422\n",
      "7     795.105634\n",
      "8     873.829787\n",
      "9     913.305970\n",
      "10    887.312500\n",
      "11    857.014493\n",
      "12    842.156627\n",
      "Name: pressure, dtype: float64\n"
     ]
    }
   ],
   "source": [
    "# First find the average daily atmospheric pressure by Martian month.\n",
    "\n",
    "mars_pressure = mars_temps_df.groupby('month')['pressure'].mean()\n",
    "\n",
    "# print the averages\n",
    "\n",
    "print(mars_pressure)"
   ]
  },
  {
   "cell_type": "code",
   "execution_count": 19,
   "metadata": {},
   "outputs": [
    {
     "data": {
      "image/png": "[encoded data removed]",
      "text/plain": [
       "<Figure size 640x480 with 1 Axes>"
      ]
     },
     "metadata": {},
     "output_type": "display_data"
    }
   ],
   "source": [
    "# Plot the average atmospheric pressure by month\n",
    "\n",
    "mars_pressure.plot.bar()\n",
    "\n",
    "# Get the current Axes object (to set the appropriate label padding)\n",
    "ax = plt.gca()  # Get the current Axes object\n",
    "\n",
    "# Set padding on the x-axis label\n",
    "ax.set_xlabel('Month', labelpad=10) \n",
    "ax.set_ylabel('Atmospheric Pressure', labelpad=8) \n",
    "\n",
    "plt.title('Average Atmospheric Pressure on Mars', pad = 15)\n",
    "\n",
    "# display the plot\n",
    "plt.show()"
   ]
  },
  {
   "cell_type": "code",
   "execution_count": 20,
   "metadata": {},
   "outputs": [
    {
     "data": {
      "image/png": "[encoded data removed]",
      "text/plain": [
       "<Figure size 640x480 with 1 Axes>"
      ]
     },
     "metadata": {},
     "output_type": "display_data"
    },
    {
     "name": "stdout",
     "output_type": "stream",
     "text": [
      "The lowest atmospheric pressure on Mars is 745.0544217687075 in month 6.\n",
      "The highest atmospheric pressure on Mars is 913.3059701492538 in month 9.\n"
     ]
    }
   ],
   "source": [
    "# Identify the lowest and highest atmospheric pressure at Curiosity's location\n",
    "\n",
    "# First plot the average atmospheric pressure by month, sorted by ascending pressure\n",
    "\n",
    "# sort the atmospheric pressure in ascending order\n",
    "sorted_pressure = mars_pressure.sort_values()\n",
    "\n",
    "# get the lowest atmospheric pressure month\n",
    "lowest_pressure_month = sorted_pressure.idxmin()\n",
    "\n",
    "# get the highest atmospheric pressure month\n",
    "highest_pressure_month = sorted_pressure.idxmax()\n",
    "\n",
    "# plot the temperatures\n",
    "sorted_pressure.plot.bar()\n",
    "\n",
    "# Get the current Axes object (to set the appropriate label padding)\n",
    "ax = plt.gca()  # Get the current Axes object\n",
    "\n",
    "# Set padding on the x-axis label\n",
    "ax.set_xlabel('Month', labelpad=10) \n",
    "ax.set_ylabel('Pressure', labelpad=8) \n",
    "\n",
    "plt.title('Lowest to Highest Average Atmospheric Pressure on Mars', pad = 15)\n",
    "\n",
    "# display the plot\n",
    "plt.show()\n",
    "\n",
    "# print the lowest and the highest months\n",
    "print(f\"The lowest atmospheric pressure on Mars is {min(sorted_pressure)} in month {lowest_pressure_month}.\")\n",
    "print(f\"The highest atmospheric pressure on Mars is {max(sorted_pressure)} in month {highest_pressure_month}.\")\n"
   ]
  },
  {
   "cell_type": "markdown",
   "metadata": {},
   "source": [
    "### 5. How many terrestrial (earth) days are there in a Martian year?"
   ]
  },
  {
   "cell_type": "code",
   "execution_count": 21,
   "metadata": {},
   "outputs": [
    {
     "data": {
      "image/png": "[encoded data removed]",
      "text/plain": [
       "<Figure size 640x480 with 1 Axes>"
      ]
     },
     "metadata": {},
     "output_type": "display_data"
    }
   ],
   "source": [
    "# 5. How many terrestrial (earth) days are there in a Martian year\n",
    "\n",
    "#Examination of the data comparing 'sol' to 'terrestrial_date' shows that\n",
    "#one Martian day is the same as one earth day, so the number of sols \n",
    "# can be examinedin the analysis\n",
    "\n",
    "# Sort the DataFrame by 'sol' column in ascending order\n",
    "mars_temps_sorted = mars_temps_df.sort_values('sol', ascending=True)\n",
    "\n",
    "# Plot 'min_temperature' column against 'sol'/days column\n",
    "mars_temps_sorted.plot(x='sol', y='min_temp', kind='line', legend=False)\n",
    "\n",
    "# Get the current Axes object\n",
    "ax = plt.gca()  \n",
    "\n",
    "# Set the labels for the x and y-axes\n",
    "# Set padding on the labels\n",
    "ax.set_xlabel('Earth Days', labelpad=10) \n",
    "ax.set_ylabel('Temperature (Celsius)', labelpad=8) \n",
    "\n",
    "# set the title\n",
    "plt.title('Mars Minimum Temperatures Over Mission Days', pad = 15)\n",
    "\n",
    "# Add grid lines\n",
    "plt.grid(True, alpha = .5)\n",
    "\n",
    "# Display the plot\n",
    "plt.show()\n"
   ]
  },
  {
   "cell_type": "markdown",
   "metadata": {},
   "source": [
    "### Using visual examination, per the requirements, the number of earth days is roughly:\n",
    "\n",
    "min peak to min peak: 525 to 1200 = 675\n",
    "max peak to max peak: 800 to 1480  = 680\n",
    "\n",
    "According to NASA, a Mars year is 687 earth days.\n",
    "\n",
    "https://mars.nasa.gov/all-about-mars/facts/mars-year/"
   ]
  },
  {
   "cell_type": "markdown",
   "metadata": {},
   "source": [
    "### Step 6: Save the Data\n",
    "\n",
    "Export the DataFrame to a CSV file."
   ]
  },
  {
   "cell_type": "code",
   "execution_count": 22,
   "metadata": {},
   "outputs": [],
   "source": [
    "# Write the data to a CSV file\n",
    "\n",
    "mars_temps_df.to_csv(output_path)\n"
   ]
  },
  {
   "cell_type": "code",
   "execution_count": 23,
   "metadata": {},
   "outputs": [],
   "source": [
    "# close the browser\n",
    "\n",
    "browser.quit()"
   ]
  },
  {
   "cell_type": "code",
   "execution_count": null,
   "metadata": {},
   "outputs": [],
   "source": []
  }
 ],
 "metadata": {
  "kernelspec": {
   "display_name": "Python 3 (ipykernel)",
   "language": "python",
   "name": "python3"
  },
  "language_info": {
   "codemirror_mode": {
    "name": "ipython",
    "version": 3
   },
   "file_extension": ".py",
   "mimetype": "text/x-python",
   "name": "python",
   "nbconvert_exporter": "python",
   "pygments_lexer": "ipython3",
   "version": "3.9.16"
  },
  "vscode": {
   "interpreter": {
    "hash": "31f2aee4e71d21fbe5cf8b01ff0e069b9275f58929596ceb00d14d90e3e16cd6"
   }
  }
 },
 "nbformat": 4,
 "nbformat_minor": 4
}
